{
 "cells": [
  {
   "cell_type": "markdown",
   "id": "c5af80e0",
   "metadata": {},
   "source": [
    "# Fetch using city name"
   ]
  },
  {
   "cell_type": "code",
   "execution_count": 1,
   "id": "4daa9c08",
   "metadata": {
    "scrolled": true
   },
   "outputs": [
    {
     "name": "stdout",
     "output_type": "stream",
     "text": [
      "Enter your city name: delhi\n",
      "Weather: mist\n",
      "Temperature: 31.05 °C\n",
      "Humidity: 79%\n",
      "Wind Speed: 3.09 m/s\n"
     ]
    }
   ],
   "source": [
    "import requests\n",
    "\n",
    "def get_weather(city):\n",
    "    api_key = \"your_api_key\"\n",
    "    url = f\"http://api.openweathermap.org/data/2.5/weather?q={city}&appid={api_key}&units=metric\"\n",
    "\n",
    "    response = requests.get(url)\n",
    "    if response.status_code == 200:\n",
    "        data = response.json()\n",
    "        return data\n",
    "    else:\n",
    "        print(\"Error occurred while fetching weather data.\")\n",
    "        return None\n",
    "\n",
    "def print_weather(data):\n",
    "    if data is not None:\n",
    "        weather_desc = data[\"weather\"][0][\"description\"]\n",
    "        temperature = data[\"main\"][\"temp\"]\n",
    "        humidity = data[\"main\"][\"humidity\"]\n",
    "        wind_speed = data[\"wind\"][\"speed\"]\n",
    "        print(f\"Weather: {weather_desc}\")\n",
    "        print(f\"Temperature: {temperature} °C\")\n",
    "        print(f\"Humidity: {humidity}%\")\n",
    "        print(f\"Wind Speed: {wind_speed} m/s\")\n",
    "    else:\n",
    "        print(\"No weather data available.\")\n",
    "\n",
    "def main():\n",
    "    city = input(\"Enter your city name: \")\n",
    "    data = get_weather(city)\n",
    "    print_weather(data)\n",
    "\n",
    "if __name__ == \"__main__\":\n",
    "    main()\n"
   ]
  },
  {
   "cell_type": "markdown",
   "id": "818e1c81",
   "metadata": {},
   "source": [
    "# Fetch using pincode"
   ]
  },
  {
   "cell_type": "code",
   "execution_count": 2,
   "id": "3b043b17",
   "metadata": {},
   "outputs": [
    {
     "name": "stdout",
     "output_type": "stream",
     "text": [
      "Enter your pincode: 321203\n",
      "Weather: broken clouds\n",
      "Temperature: 38.44 °C\n",
      "Humidity: 34%\n",
      "Wind Speed: 1.1 m/s\n"
     ]
    }
   ],
   "source": [
    "import requests\n",
    "\n",
    "def get_weather(pincode):\n",
    "    api_key = \"your_api_key\"\n",
    "    url = f\"http://api.openweathermap.org/data/2.5/weather?zip={pincode},IN&appid={api_key}&units=metric\"\n",
    "\n",
    "    response = requests.get(url)\n",
    "    if response.status_code == 200:\n",
    "        data = response.json()\n",
    "        return data\n",
    "    else:\n",
    "        print(\"Error occurred while fetching weather data.\")\n",
    "        return None\n",
    "\n",
    "def print_weather(data):\n",
    "    if data is not None:\n",
    "        weather_desc = data[\"weather\"][0][\"description\"]\n",
    "        temperature = data[\"main\"][\"temp\"]\n",
    "        humidity = data[\"main\"][\"humidity\"]\n",
    "        wind_speed = data[\"wind\"][\"speed\"]\n",
    "        print(f\"Weather: {weather_desc}\")\n",
    "        print(f\"Temperature: {temperature} °C\")\n",
    "        print(f\"Humidity: {humidity}%\")\n",
    "        print(f\"Wind Speed: {wind_speed} m/s\")\n",
    "    else:\n",
    "        print(\"No weather data available.\")\n",
    "\n",
    "def main():\n",
    "    pincode = input(\"Enter your pincode: \")\n",
    "    data = get_weather(pincode)\n",
    "    print_weather(data)\n",
    "\n",
    "if __name__ == \"__main__\":\n",
    "    main()\n"
   ]
  },
  {
   "cell_type": "markdown",
   "id": "44b16fa3",
   "metadata": {},
   "source": [
    "# Fetch using Both"
   ]
  },
  {
   "cell_type": "code",
   "execution_count": 4,
   "id": "a1e68aee",
   "metadata": {},
   "outputs": [
    {
     "name": "stdout",
     "output_type": "stream",
     "text": [
      "Enter 1 to fetch weather by city or 2 to fetch weather by pincode: 1\n",
      "Enter your city name: mumbai\n",
      "Weather: haze\n",
      "Temperature: 28.99 °C\n",
      "Humidity: 89%\n",
      "Wind Speed: 4.63 m/s\n"
     ]
    }
   ],
   "source": [
    "import requests\n",
    "\n",
    "def get_weather_by_city(city):\n",
    "    api_key = \"your_api_key\"\n",
    "    url = f\"http://api.openweathermap.org/data/2.5/weather?q={city}&appid={api_key}&units=metric\"\n",
    "\n",
    "    response = requests.get(url)\n",
    "    if response.status_code == 200:\n",
    "        data = response.json()\n",
    "        return data\n",
    "    else:\n",
    "        print(\"Error occurred while fetching weather data.\")\n",
    "        return None\n",
    "\n",
    "def get_weather_by_pincode(pincode):\n",
    "    api_key = \"645288958a6a3433478934ae52b0baac\"\n",
    "    url = f\"http://api.openweathermap.org/data/2.5/weather?zip={pincode},IN&appid={api_key}&units=metric\"\n",
    "\n",
    "    response = requests.get(url)\n",
    "    if response.status_code == 200:\n",
    "        data = response.json()\n",
    "        return data\n",
    "    else:\n",
    "        print(\"Error occurred while fetching weather data.\")\n",
    "        return None\n",
    "\n",
    "def print_weather(data):\n",
    "    if data is not None:\n",
    "        weather_desc = data[\"weather\"][0][\"description\"]\n",
    "        temperature = data[\"main\"][\"temp\"]\n",
    "        humidity = data[\"main\"][\"humidity\"]\n",
    "        wind_speed = data[\"wind\"][\"speed\"]\n",
    "        print(f\"Weather: {weather_desc}\")\n",
    "        print(f\"Temperature: {temperature} °C\")\n",
    "        print(f\"Humidity: {humidity}%\")\n",
    "        print(f\"Wind Speed: {wind_speed} m/s\")\n",
    "    else:\n",
    "        print(\"No weather data available.\")\n",
    "\n",
    "def main():\n",
    "    option = input(\"Enter 1 to fetch weather by city or 2 to fetch weather by pincode: \")\n",
    "\n",
    "    if option == \"1\":\n",
    "        city = input(\"Enter your city name: \")\n",
    "        data = get_weather_by_city(city)\n",
    "        print_weather(data)\n",
    "    elif option == \"2\":\n",
    "        pincode = input(\"Enter your pincode: \")\n",
    "        data = get_weather_by_pincode(pincode)\n",
    "        print_weather(data)\n",
    "    else:\n",
    "        print(\"Invalid option. Please try again.\")\n",
    "\n",
    "if __name__ == \"__main__\":\n",
    "    main()\n"
   ]
  }
 ],
 "metadata": {
  "kernelspec": {
   "display_name": "Python 3 (ipykernel)",
   "language": "python",
   "name": "python3"
  },
  "language_info": {
   "codemirror_mode": {
    "name": "ipython",
    "version": 3
   },
   "file_extension": ".py",
   "mimetype": "text/x-python",
   "name": "python",
   "nbconvert_exporter": "python",
   "pygments_lexer": "ipython3",
   "version": "3.9.12"
  }
 },
 "nbformat": 4,
 "nbformat_minor": 5
}
